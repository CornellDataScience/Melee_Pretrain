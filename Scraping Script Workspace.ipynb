{
 "cells": [
  {
   "cell_type": "code",
   "execution_count": 45,
   "id": "de879c38",
   "metadata": {},
   "outputs": [],
   "source": [
    "import requests\n",
    "from bs4 import BeautifulSoup as bs\n",
    "from selenium import webdriver\n",
    "import urllib"
   ]
  },
  {
   "cell_type": "code",
   "execution_count": 9,
   "id": "899ff1a1",
   "metadata": {},
   "outputs": [],
   "source": [
    "_TR = '0x7'\n",
    "_SEP = '?page='\n",
    "_PGN = '1'\n",
    "_URL = 'https://slippi.gg/tournaments/' + _TR + _SEP + _PGN\n",
    "url = 'https://slippi.gg/tournament/0x7?page=2'"
   ]
  },
  {
   "cell_type": "code",
   "execution_count": 11,
   "id": "9ba5c31e",
   "metadata": {},
   "outputs": [],
   "source": [
    "driver = webdriver.Firefox()\n",
    "driver.get(url)"
   ]
  },
  {
   "cell_type": "code",
   "execution_count": 33,
   "id": "219031e0",
   "metadata": {},
   "outputs": [],
   "source": [
    "html = driver.page_source\n",
    "soup = bs(html)"
   ]
  },
  {
   "cell_type": "code",
   "execution_count": 56,
   "id": "668bc597",
   "metadata": {},
   "outputs": [],
   "source": [
    "def download_slp(url_loc):\n",
    "    with urllib.request.urlopen(url_loc) as url:\n",
    "        name = url_loc[url_loc.find('_') + 1:]\n",
    "        print(name)\n",
    "    \n",
    "        data = open(\"Data/\" + name, 'wb')\n",
    "        data.write(res.read())\n",
    "        data.close()"
   ]
  },
  {
   "cell_type": "code",
   "execution_count": 57,
   "id": "e48ef3d8",
   "metadata": {},
   "outputs": [
    {
     "name": "stdout",
     "output_type": "stream",
     "text": [
      "starting: https://storage.googleapis.com/slippi.appspot.com/replays/114117/Day 3-Game_20210718T080319.slp\n",
      "20210718T080319.slp\n",
      "starting: https://storage.googleapis.com/slippi.appspot.com/replays/114117/Day 3-Game_20210718T080156.slp\n",
      "20210718T080156.slp\n",
      "starting: https://storage.googleapis.com/slippi.appspot.com/replays/114117/Day 3-Game_20210718T074602.slp\n",
      "20210718T074602.slp\n",
      "starting: https://storage.googleapis.com/slippi.appspot.com/replays/114117/Day 3-Game_20210718T074220.slp\n",
      "20210718T074220.slp\n",
      "starting: https://storage.googleapis.com/slippi.appspot.com/replays/114117/Day 3-Game_20210718T073938.slp\n",
      "20210718T073938.slp\n",
      "starting: https://storage.googleapis.com/slippi.appspot.com/replays/114117/Day 3-Game_20210718T073630.slp\n",
      "20210718T073630.slp\n",
      "starting: https://storage.googleapis.com/slippi.appspot.com/replays/114117/Day 3-Game_20210718T073015.slp\n",
      "20210718T073015.slp\n",
      "starting: https://storage.googleapis.com/slippi.appspot.com/replays/114117/Day 3-Game_20210718T072717.slp\n",
      "20210718T072717.slp\n",
      "starting: https://storage.googleapis.com/slippi.appspot.com/replays/114117/Day 3-Game_20210718T072457.slp\n",
      "20210718T072457.slp\n",
      "starting: https://storage.googleapis.com/slippi.appspot.com/replays/114117/Day 3-Game_20210718T072157.slp\n",
      "20210718T072157.slp\n",
      "starting: https://storage.googleapis.com/slippi.appspot.com/replays/114117/Day 3-Game_20210718T071446.slp\n",
      "20210718T071446.slp\n",
      "starting: https://storage.googleapis.com/slippi.appspot.com/replays/114117/Day 3-Game_20210718T070331.slp\n",
      "20210718T070331.slp\n",
      "starting: https://storage.googleapis.com/slippi.appspot.com/replays/114117/Day 3-Game_20210718T065953.slp\n",
      "20210718T065953.slp\n",
      "starting: https://storage.googleapis.com/slippi.appspot.com/replays/114117/Day 3-Game_20210718T065613.slp\n",
      "20210718T065613.slp\n",
      "starting: https://storage.googleapis.com/slippi.appspot.com/replays/114117/Day 3-Game_20210718T065345.slp\n",
      "20210718T065345.slp\n",
      "starting: https://storage.googleapis.com/slippi.appspot.com/replays/114117/Day 3-Game_20210718T065227.slp\n",
      "20210718T065227.slp\n",
      "starting: https://storage.googleapis.com/slippi.appspot.com/replays/114117/Day 3-Game_20210718T064540.slp\n",
      "20210718T064540.slp\n",
      "starting: https://storage.googleapis.com/slippi.appspot.com/replays/114117/Day 3-Game_20210718T064304.slp\n",
      "20210718T064304.slp\n",
      "starting: https://storage.googleapis.com/slippi.appspot.com/replays/114117/Day 3-Game_20210718T063947.slp\n",
      "20210718T063947.slp\n",
      "starting: https://storage.googleapis.com/slippi.appspot.com/replays/114117/Day 3-Game_20210718T063653.slp\n",
      "20210718T063653.slp\n",
      "starting: https://storage.googleapis.com/slippi.appspot.com/replays/114117/Day 3-Game_20210718T063436.slp\n",
      "20210718T063436.slp\n",
      "starting: https://storage.googleapis.com/slippi.appspot.com/replays/114117/Day 3-Game_20210718T061507.slp\n",
      "20210718T061507.slp\n",
      "starting: https://storage.googleapis.com/slippi.appspot.com/replays/114117/Day 3-Game_20210718T061229.slp\n",
      "20210718T061229.slp\n",
      "starting: https://storage.googleapis.com/slippi.appspot.com/replays/114117/Day 3-Game_20210718T061003.slp\n",
      "20210718T061003.slp\n",
      "starting: https://storage.googleapis.com/slippi.appspot.com/replays/114117/Day 3-Game_20210718T060858.slp\n",
      "20210718T060858.slp\n"
     ]
    }
   ],
   "source": [
    "for i, link in enumerate(soup.findAll('a')):\n",
    "    file_url = link.get('href')\n",
    "    if not (file_url is None) and (file_url[:30] == 'https://storage.googleapis.com'):\n",
    "        download_slp(file_url.replace(' ','%20'))"
   ]
  }
 ],
 "metadata": {
  "kernelspec": {
   "display_name": "Python 3 (ipykernel)",
   "language": "python",
   "name": "python3"
  },
  "language_info": {
   "codemirror_mode": {
    "name": "ipython",
    "version": 3
   },
   "file_extension": ".py",
   "mimetype": "text/x-python",
   "name": "python",
   "nbconvert_exporter": "python",
   "pygments_lexer": "ipython3",
   "version": "3.9.7"
  }
 },
 "nbformat": 4,
 "nbformat_minor": 5
}
