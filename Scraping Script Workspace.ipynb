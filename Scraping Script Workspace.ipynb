{
 "cells": [
  {
   "cell_type": "code",
   "execution_count": 45,
   "id": "de879c38",
   "metadata": {},
   "outputs": [],
   "source": [
    "import requests\n",
    "from bs4 import BeautifulSoup as bs\n",
    "from selenium import webdriver\n",
    "import urllib"
   ]
  },
  {
   "cell_type": "code",
   "execution_count": 64,
   "id": "899ff1a1",
   "metadata": {},
   "outputs": [],
   "source": [
    "_URL = 'https://slippi.gg/tournaments/' "
   ]
  },
  {
   "cell_type": "code",
   "execution_count": 105,
   "id": "3227013f",
   "metadata": {},
   "outputs": [],
   "source": [
    "def download_slp(url_loc, dl = True):\n",
    "    with urllib.request.urlopen(url_loc) as url:\n",
    "        name = url_loc[url_loc.find('_') + 1:]\n",
    "        if dl == True:\n",
    "            data = open(\"Data/\" + name, 'wb')\n",
    "            data.write(url.read())\n",
    "            data.close()\n",
    "        else:\n",
    "            print(name)"
   ]
  },
  {
   "cell_type": "code",
   "execution_count": 103,
   "id": "c794134f",
   "metadata": {},
   "outputs": [],
   "source": [
    "def page_download(soup):\n",
    "    for i, link in enumerate(soup.findAll('a')):\n",
    "        file_url = link.get('href')\n",
    "        if not (file_url is None) and (file_url[:30] == 'https://storage.googleapis.com'):\n",
    "            download_slp(file_url.replace(' ','%20'), False)"
   ]
  },
  {
   "cell_type": "code",
   "execution_count": 115,
   "id": "fd9ca8b1",
   "metadata": {},
   "outputs": [],
   "source": [
    "def scrape_page(url, num, driver):\n",
    "    url = url + str(num)\n",
    "    driver.get(url)\n",
    "    html = driver.page_source\n",
    "    soup = bs(html)\n",
    "    page_download(soup)"
   ]
  },
  {
   "cell_type": "code",
   "execution_count": 122,
   "id": "66171a24",
   "metadata": {},
   "outputs": [],
   "source": [
    "def scrape_tour(base_url, tour_code, driver):\n",
    "    url = base_url + tour_code + '?page='\n",
    "    scrape_page(url, 10, driver)"
   ]
  },
  {
   "cell_type": "code",
   "execution_count": null,
   "id": "875cd2c3",
   "metadata": {},
   "outputs": [],
   "source": [
    "def scrape_slippi(base_url, driver):\n",
    "    url = "
   ]
  },
  {
   "cell_type": "code",
   "execution_count": null,
   "id": "5237331f",
   "metadata": {},
   "outputs": [],
   "source": [
    "driver = webdriver.Firefox()\n",
    "scrape_tour(_URL,'0x7', driver)"
   ]
  }
 ],
 "metadata": {
  "kernelspec": {
   "display_name": "Python 3 (ipykernel)",
   "language": "python",
   "name": "python3"
  },
  "language_info": {
   "codemirror_mode": {
    "name": "ipython",
    "version": 3
   },
   "file_extension": ".py",
   "mimetype": "text/x-python",
   "name": "python",
   "nbconvert_exporter": "python",
   "pygments_lexer": "ipython3",
   "version": "3.9.7"
  }
 },
 "nbformat": 4,
 "nbformat_minor": 5
}
