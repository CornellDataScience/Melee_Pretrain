{
 "cells": [
  {
   "cell_type": "code",
   "execution_count": 45,
   "id": "de879c38",
   "metadata": {},
   "outputs": [],
   "source": [
    "import requests\n",
    "from bs4 import BeautifulSoup as bs\n",
    "from selenium import webdriver\n",
    "import urllib"
   ]
  },
  {
   "cell_type": "code",
   "execution_count": 64,
   "id": "899ff1a1",
   "metadata": {},
   "outputs": [],
   "source": [
    "_URL = 'https://slippi.gg/tournaments/' "
   ]
  },
  {
   "cell_type": "code",
   "execution_count": 105,
   "id": "fef37dee",
   "metadata": {},
   "outputs": [],
   "source": [
    "def download_slp(url_loc, dl = True):\n",
    "    with urllib.request.urlopen(url_loc) as url:\n",
    "        name = url_loc[url_loc.find('_') + 1:]\n",
    "        if dl == True:\n",
    "            data = open(\"Data/\" + name, 'wb')\n",
    "            data.write(url.read())\n",
    "            data.close()\n",
    "        else:\n",
    "            print(name)"
   ]
  },
  {
   "cell_type": "code",
   "execution_count": 142,
   "id": "e60c95c9",
   "metadata": {},
   "outputs": [],
   "source": [
    "def page_download(soup):\n",
    "    links = soup.findAll('a')\n",
    "    if len(links) > 1:\n",
    "        for i, link in enumerate(links):\n",
    "            file_url = link.get('href')\n",
    "            if not (file_url is None) and (file_url[:30] == 'https://storage.googleapis.com'):\n",
    "                download_slp(file_url.replace(' ','%20'), False)\n",
    "        return False\n",
    "    else:\n",
    "        return True"
   ]
  },
  {
   "cell_type": "code",
   "execution_count": 135,
   "id": "d242f2ff",
   "metadata": {},
   "outputs": [],
   "source": [
    "def scrape_page(url, num, driver):\n",
    "    url = url + str(num)\n",
    "    driver.get(url)\n",
    "    html = driver.page_source\n",
    "    soup = bs(html)\n",
    "    page_empty = page_download(soup)\n",
    "    return page_empty"
   ]
  },
  {
   "cell_type": "code",
   "execution_count": 140,
   "id": "09199600",
   "metadata": {},
   "outputs": [],
   "source": [
    "def scrape_tour(base_url, tour_code, driver):\n",
    "    url = base_url + tour_code + '?page='\n",
    "    page_empty = False\n",
    "    i = 1\n",
    "    while not page_empty:\n",
    "        page_empty = scrape_page(url, i, driver)\n",
    "        i += 1\n",
    "        print(i)"
   ]
  },
  {
   "cell_type": "code",
   "execution_count": 125,
   "id": "5b8efdff",
   "metadata": {},
   "outputs": [],
   "source": [
    "# def scrape_slippi(base_url, driver):\n",
    "#     url = "
   ]
  },
  {
   "cell_type": "code",
   "execution_count": 143,
   "id": "259568ba",
   "metadata": {},
   "outputs": [
    {
     "name": "stdout",
     "output_type": "stream",
     "text": [
      "2\n",
      "3\n",
      "4\n"
     ]
    }
   ],
   "source": [
    "driver = webdriver.Firefox()\n",
    "scrape_tour(_URL,'0x7', driver)"
   ]
  },
  {
   "cell_type": "code",
   "execution_count": 131,
   "id": "59f0d578",
   "metadata": {},
   "outputs": [
    {
     "data": {
      "text/plain": [
       "[<a href=\"/downloads\">downloads page</a>]"
      ]
     },
     "execution_count": 131,
     "metadata": {},
     "output_type": "execute_result"
    }
   ],
   "source": [
    "driver = webdriver.Firefox()\n",
    "driver.get('https://slippi.gg/tournament/0x7?page=14')\n",
    "html = driver.page_source\n",
    "soup = bs(html)\n",
    "soup.findAll('a')"
   ]
  }
 ],
 "metadata": {
  "kernelspec": {
   "display_name": "Python 3 (ipykernel)",
   "language": "python",
   "name": "python3"
  },
  "language_info": {
   "codemirror_mode": {
    "name": "ipython",
    "version": 3
   },
   "file_extension": ".py",
   "mimetype": "text/x-python",
   "name": "python",
   "nbconvert_exporter": "python",
   "pygments_lexer": "ipython3",
   "version": "3.9.7"
  }
 },
 "nbformat": 4,
 "nbformat_minor": 5
}
