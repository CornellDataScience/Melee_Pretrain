{
 "cells": [
  {
   "cell_type": "code",
   "execution_count": 8,
   "id": "de879c38",
   "metadata": {},
   "outputs": [],
   "source": [
    "import requests\n",
    "from bs4 import BeautifulSoup as bs\n",
    "from selenium import webdriver"
   ]
  },
  {
   "cell_type": "code",
   "execution_count": 9,
   "id": "899ff1a1",
   "metadata": {},
   "outputs": [],
   "source": [
    "_TR = '0x7'\n",
    "_SEP = '?page='\n",
    "_PGN = '1'\n",
    "_URL = 'https://slippi.gg/tournaments/' + _TR + _SEP + _PGN\n",
    "url = 'https://slippi.gg/tournament/0x7?page=2'"
   ]
  },
  {
   "cell_type": "code",
   "execution_count": 10,
   "id": "9ba5c31e",
   "metadata": {},
   "outputs": [],
   "source": [
    "driver = webdriver.Firefox()"
   ]
  },
  {
   "cell_type": "code",
   "execution_count": 22,
   "id": "219031e0",
   "metadata": {},
   "outputs": [],
   "source": [
    "driver.get('http://your-site/url')\n",
    "\n",
    "html = driver.page_source\n",
    "soup = BeautifulSoup(html)"
   ]
  },
  {
   "cell_type": "code",
   "execution_count": 23,
   "id": "e6916876",
   "metadata": {},
   "outputs": [
    {
     "data": {
      "text/plain": [
       "<!DOCTYPE html>\n",
       "<html lang=\"en\"><head><meta content=\"IE=edge,chrome=1\" http-equiv=\"X-UA-Compatible\"/><script async=\"\" src=\"https://www.googletagmanager.com/gtag/js?id=UA-136305043-1\"></script><script>function gtag(){dataLayer.push(arguments)}window.dataLayer=window.dataLayer||[],gtag(\"js\",new Date),gtag(\"config\",\"UA-136305043-1\")</script><meta charset=\"utf-8\"/><meta content=\"width=device-width,initial-scale=1,shrink-to-fit=no\" name=\"viewport\"/><meta content=\"#21BA45\" name=\"theme-color\"/><meta content=\"Slippi\" property=\"og:site_name\"/><meta content=\"website\" property=\"og:type\"/><meta content=\"The New Netplay: Try it now\" property=\"og:title\"/><meta content=\"Rollback netcode, matchmaking, replays, and more!\" property=\"og:description\"/><meta content=\"https://www.mediafire.com/convkey/fa5e/42x0d90uloe5gi9zg.jpg\" property=\"og:image\"/><link href=\"/manifest.json\" rel=\"manifest\"/><link href=\"/favicon.ico\" rel=\"shortcut icon\"/><link href=\"/slippi-visualiser.html\" rel=\"slpVisualiser\"/><link href=\"https://unpkg.com/aos@next/dist/aos.css\" rel=\"stylesheet\"/><title>Slippi</title><link href=\"/static/css/2.692c8f69.chunk.css\" rel=\"stylesheet\"/><link href=\"/static/css/main.76ad8bcd.chunk.css\" rel=\"stylesheet\"/></head><body><noscript>You need to enable JavaScript to run this app.</noscript><div id=\"root\"></div><script>!function(e){function r(r){for(var n,i,l=r[0],p=r[1],f=r[2],c=0,s=[];c<l.length;c++)i=l[c],Object.prototype.hasOwnProperty.call(o,i)&&o[i]&&s.push(o[i][0]),o[i]=0;for(n in p)Object.prototype.hasOwnProperty.call(p,n)&&(e[n]=p[n]);for(a&&a(r);s.length;)s.shift()();return u.push.apply(u,f||[]),t()}function t(){for(var e,r=0;r<u.length;r++){for(var t=u[r],n=!0,l=1;l<t.length;l++){var p=t[l];0!==o[p]&&(n=!1)}n&&(u.splice(r--,1),e=i(i.s=t[0]))}return e}var n={},o={1:0},u=[];function i(r){if(n[r])return n[r].exports;var t=n[r]={i:r,l:!1,exports:{}};return e[r].call(t.exports,t,t.exports,i),t.l=!0,t.exports}i.m=e,i.c=n,i.d=function(e,r,t){i.o(e,r)||Object.defineProperty(e,r,{enumerable:!0,get:t})},i.r=function(e){\"undefined\"!=typeof Symbol&&Symbol.toStringTag&&Object.defineProperty(e,Symbol.toStringTag,{value:\"Module\"}),Object.defineProperty(e,\"__esModule\",{value:!0})},i.t=function(e,r){if(1&r&&(e=i(e)),8&r)return e;if(4&r&&\"object\"==typeof e&&e&&e.__esModule)return e;var t=Object.create(null);if(i.r(t),Object.defineProperty(t,\"default\",{enumerable:!0,value:e}),2&r&&\"string\"!=typeof e)for(var n in e)i.d(t,n,function(r){return e[r]}.bind(null,n));return t},i.n=function(e){var r=e&&e.__esModule?function(){return e.default}:function(){return e};return i.d(r,\"a\",r),r},i.o=function(e,r){return Object.prototype.hasOwnProperty.call(e,r)},i.p=\"/\";var l=this[\"webpackJsonpslippi-web\"]=this[\"webpackJsonpslippi-web\"]||[],p=l.push.bind(l);l.push=r,l=l.slice();for(var f=0;f<l.length;f++)r(l[f]);var a=p;t()}([])</script><script src=\"/static/js/2.a3fc6013.chunk.js\"></script><script src=\"/static/js/main.1c7c2d27.chunk.js\"></script></body></html>"
      ]
     },
     "execution_count": 23,
     "metadata": {},
     "output_type": "execute_result"
    }
   ],
   "source": [
    "soup"
   ]
  }
 ],
 "metadata": {
  "kernelspec": {
   "display_name": "Python 3 (ipykernel)",
   "language": "python",
   "name": "python3"
  },
  "language_info": {
   "codemirror_mode": {
    "name": "ipython",
    "version": 3
   },
   "file_extension": ".py",
   "mimetype": "text/x-python",
   "name": "python",
   "nbconvert_exporter": "python",
   "pygments_lexer": "ipython3",
   "version": "3.9.7"
  }
 },
 "nbformat": 4,
 "nbformat_minor": 5
}
