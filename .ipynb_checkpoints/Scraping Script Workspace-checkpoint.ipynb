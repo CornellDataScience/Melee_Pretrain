{
 "cells": [
  {
   "cell_type": "code",
   "execution_count": 253,
   "id": "de879c38",
   "metadata": {},
   "outputs": [],
   "source": [
    "import requests\n",
    "from bs4 import BeautifulSoup as bs\n",
    "from selenium import webdriver\n",
    "from selenium.webdriver.common.by import By  \n",
    "import time\n",
    "import urllib"
   ]
  },
  {
   "cell_type": "code",
   "execution_count": 220,
   "id": "7fa5ae97",
   "metadata": {},
   "outputs": [],
   "source": [
    "def download_slp(url_loc, dl = True):\n",
    "    with urllib.request.urlopen(url_loc) as url:\n",
    "        name = url_loc[url_loc.find('_') + 1:]\n",
    "        if dl == True:\n",
    "            data = open(\"Data/\" + name, 'wb')\n",
    "            data.write(url.read())\n",
    "            data.close()\n",
    "        else:\n",
    "            print(name)"
   ]
  },
  {
   "cell_type": "code",
   "execution_count": 221,
   "id": "36e237d8",
   "metadata": {},
   "outputs": [],
   "source": [
    "def page_download(soup):\n",
    "    empty = True\n",
    "    for i, link in enumerate(soup.findAll('a')):\n",
    "        file_url = link.get('href')\n",
    "        if not (file_url is None) and (file_url[:30] == 'https://storage.googleapis.com'):\n",
    "            download_slp(file_url.replace(' ','%20'), False)\n",
    "            if empty:\n",
    "                empty = False\n",
    "    return empty"
   ]
  },
  {
   "cell_type": "code",
   "execution_count": 216,
   "id": "391741ae",
   "metadata": {},
   "outputs": [],
   "source": [
    "def scrape_page(base_url, num, driver):    \n",
    "    url = base_url + '?page=' + str(num)\n",
    "    driver.get(url)\n",
    "    print(url)\n",
    "    html = driver.page_source\n",
    "    soup = bs(html)\n",
    "    page_empty = page_download(soup)\n",
    "    return page_empty"
   ]
  },
  {
   "cell_type": "code",
   "execution_count": 217,
   "id": "7c710ada",
   "metadata": {},
   "outputs": [],
   "source": [
    "def scrape_tour(base_url, tour_code):\n",
    "    driver = webdriver.Firefox()\n",
    "    \n",
    "    url = base_url + tour_code\n",
    "    driver.get(url)\n",
    "    page_empty = False\n",
    "    i = 2\n",
    "    while not page_empty:\n",
    "        print(i)\n",
    "        page_empty = scrape_page(url, i, driver)\n",
    "        i += 1"
   ]
  },
  {
   "cell_type": "code",
   "execution_count": 219,
   "id": "e4b2a41d",
   "metadata": {},
   "outputs": [
    {
     "name": "stdout",
     "output_type": "stream",
     "text": [
      "2\n",
      "https://slippi.gg/tournament/0x7?page=2\n"
     ]
    }
   ],
   "source": [
    "_URL = 'https://slippi.gg/tournament/' \n",
    "scrape_tour(_URL,'0x7')"
   ]
  },
  {
   "cell_type": "code",
   "execution_count": 263,
   "id": "bf2dc14d",
   "metadata": {},
   "outputs": [
    {
     "name": "stderr",
     "output_type": "stream",
     "text": [
      "C:\\Users\\steph\\AppData\\Local\\Temp/ipykernel_18820/319890485.py:5: DeprecationWarning: find_element_by_xpath is deprecated. Please use find_element(by=By.XPATH, value=xpath) instead\n",
      "  button_ui = driver.find_element_by_xpath('/html/body/div[1]/div/header/div/header/div/button')\n",
      "C:\\Users\\steph\\AppData\\Local\\Temp/ipykernel_18820/319890485.py:8: DeprecationWarning: find_element_by_xpath is deprecated. Please use find_element(by=By.XPATH, value=xpath) instead\n",
      "  button_tournament = driver.find_element_by_xpath('/html/body/div[3]/div[3]/div/ul/div[2]')\n",
      "C:\\Users\\steph\\AppData\\Local\\Temp/ipykernel_18820/319890485.py:13: DeprecationWarning: find_elements_by_link_text is deprecated. Please use find_elements(by=By.LINK_TEXT, value=text) instead\n",
      "  buttons = driver.find_elements_by_link_text(\"Browse all games\")\n"
     ]
    },
    {
     "data": {
      "text/plain": [
       "[<selenium.webdriver.remote.webelement.WebElement (session=\"5e01ed3b-c4e1-43cf-a3c2-77515bc87656\", element=\"b34bf26f-9f3a-42e3-b531-574018dc5700\")>,\n",
       " <selenium.webdriver.remote.webelement.WebElement (session=\"5e01ed3b-c4e1-43cf-a3c2-77515bc87656\", element=\"4b11428c-eabe-4712-adf3-b5750096b2d0\")>,\n",
       " <selenium.webdriver.remote.webelement.WebElement (session=\"5e01ed3b-c4e1-43cf-a3c2-77515bc87656\", element=\"7369043e-f900-440d-a4f8-fbbd8d1a3018\")>,\n",
       " <selenium.webdriver.remote.webelement.WebElement (session=\"5e01ed3b-c4e1-43cf-a3c2-77515bc87656\", element=\"b5cc317a-5447-4bd5-8832-56e7ea929f2d\")>,\n",
       " <selenium.webdriver.remote.webelement.WebElement (session=\"5e01ed3b-c4e1-43cf-a3c2-77515bc87656\", element=\"8e45ba37-b75d-4f99-9847-4c2b90503773\")>,\n",
       " <selenium.webdriver.remote.webelement.WebElement (session=\"5e01ed3b-c4e1-43cf-a3c2-77515bc87656\", element=\"87e152e9-06a1-4330-84ad-d3bc36258612\")>,\n",
       " <selenium.webdriver.remote.webelement.WebElement (session=\"5e01ed3b-c4e1-43cf-a3c2-77515bc87656\", element=\"5901ecec-2fdd-44af-bb58-18dd4d3b51c4\")>]"
      ]
     },
     "execution_count": 263,
     "metadata": {},
     "output_type": "execute_result"
    }
   ],
   "source": [
    "driver = webdriver.Firefox()\n",
    "url = 'https://slippi.gg/' \n",
    "driver.get(url)\n",
    "#\n",
    "button_ui = driver.find_element_by_xpath('/html/body/div[1]/div/header/div/header/div/button')\n",
    "button_ui.click()\n",
    "#tournament button\n",
    "button_tournament = driver.find_element_by_xpath('/html/body/div[3]/div[3]/div/ul/div[2]')\n",
    "button_tournament.click()\n",
    "\n",
    "time.sleep(5)\n",
    "\n",
    "tournament_buttons = driver.find_elements_by_link_text(\"Browse all games\")\n",
    "tournament_buttons\n",
    "# driver.find_element_by_link_text(\"Browse all games\").click()\n",
    "# button = driver.find_element_by_xpath('/html/body/div[1]/div/div/div/div/div/div[1]/div/div[2]/div[3]/a')\n",
    "# buttons = driver.find_element_by_xpath('//a[contains(@href,\"href\")]')\n",
    "# buttons\n",
    "\n",
    "#for tournament page\n",
    "    #get list of buttons\n",
    "    #for button\n",
    "        #enter page\n",
    "        #scrape page\n",
    "        #next page\n",
    "        #return"
   ]
  }
 ],
 "metadata": {
  "kernelspec": {
   "display_name": "Python 3 (ipykernel)",
   "language": "python",
   "name": "python3"
  },
  "language_info": {
   "codemirror_mode": {
    "name": "ipython",
    "version": 3
   },
   "file_extension": ".py",
   "mimetype": "text/x-python",
   "name": "python",
   "nbconvert_exporter": "python",
   "pygments_lexer": "ipython3",
   "version": "3.9.7"
  }
 },
 "nbformat": 4,
 "nbformat_minor": 5
}
