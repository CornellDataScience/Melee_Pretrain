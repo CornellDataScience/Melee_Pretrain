{
 "cells": [
  {
   "cell_type": "code",
   "execution_count": 45,
   "id": "de879c38",
   "metadata": {},
   "outputs": [],
   "source": [
    "import requests\n",
    "from bs4 import BeautifulSoup as bs\n",
    "from selenium import webdriver\n",
    "import urllib"
   ]
  },
  {
   "cell_type": "code",
   "execution_count": 64,
   "id": "899ff1a1",
   "metadata": {},
   "outputs": [],
   "source": [
    "_URL = 'https://slippi.gg/tournaments/' "
   ]
  },
  {
   "cell_type": "code",
   "execution_count": 105,
   "id": "0565599f",
   "metadata": {},
   "outputs": [],
   "source": [
    "def download_slp(url_loc, dl = True):\n",
    "    with urllib.request.urlopen(url_loc) as url:\n",
    "        name = url_loc[url_loc.find('_') + 1:]\n",
    "        if dl == True:\n",
    "            data = open(\"Data/\" + name, 'wb')\n",
    "            data.write(url.read())\n",
    "            data.close()\n",
    "        else:\n",
    "            print(name)"
   ]
  },
  {
   "cell_type": "code",
   "execution_count": 103,
   "id": "eeb7e865",
   "metadata": {},
   "outputs": [],
   "source": [
    "def page_download(soup):\n",
    "    for i, link in enumerate(soup.findAll('a')):\n",
    "        file_url = link.get('href')\n",
    "        if not (file_url is None) and (file_url[:30] == 'https://storage.googleapis.com'):\n",
    "            download_slp(file_url.replace(' ','%20'), True)"
   ]
  },
  {
   "cell_type": "code",
   "execution_count": 115,
   "id": "0982fd12",
   "metadata": {},
   "outputs": [],
   "source": [
    "def scrape_page(url, num, driver):\n",
    "    url = url + str(num)\n",
    "    driver.get(url)\n",
    "    html = driver.page_source\n",
    "    soup = bs(html)\n",
    "    page_download(soup)"
   ]
  },
  {
   "cell_type": "code",
   "execution_count": 119,
   "id": "541a2d20",
   "metadata": {},
   "outputs": [],
   "source": [
    "def scrape_tour(base_url, tour_code, driver):\n",
    "#     url = base_url + tour_code + '?page='\n",
    "    url = 'https://slippi.gg/tournament/0x7?page='\n",
    "    scrape_page(url, 2, driver)"
   ]
  },
  {
   "cell_type": "code",
   "execution_count": null,
   "id": "de5041c4",
   "metadata": {},
   "outputs": [
    {
     "name": "stdout",
     "output_type": "stream",
     "text": [
      "/downloads\n",
      "https://storage.googleapis.com/slippi.appspot.com/replays/114117/Day 3-Game_20210718T080319.slp\n",
      "slippi://play?path=/replays/114117/Day 3-Game_20210718T080319.slp\n",
      "None\n",
      "https://storage.googleapis.com/slippi.appspot.com/replays/114117/Day 3-Game_20210718T080156.slp\n",
      "slippi://play?path=/replays/114117/Day 3-Game_20210718T080156.slp\n",
      "None\n",
      "https://storage.googleapis.com/slippi.appspot.com/replays/114117/Day 3-Game_20210718T074602.slp\n",
      "slippi://play?path=/replays/114117/Day 3-Game_20210718T074602.slp\n",
      "None\n",
      "https://storage.googleapis.com/slippi.appspot.com/replays/114117/Day 3-Game_20210718T074220.slp\n",
      "slippi://play?path=/replays/114117/Day 3-Game_20210718T074220.slp\n",
      "None\n",
      "https://storage.googleapis.com/slippi.appspot.com/replays/114117/Day 3-Game_20210718T073938.slp\n",
      "slippi://play?path=/replays/114117/Day 3-Game_20210718T073938.slp\n",
      "None\n",
      "https://storage.googleapis.com/slippi.appspot.com/replays/114117/Day 3-Game_20210718T073630.slp\n",
      "slippi://play?path=/replays/114117/Day 3-Game_20210718T073630.slp\n",
      "None\n",
      "https://storage.googleapis.com/slippi.appspot.com/replays/114117/Day 3-Game_20210718T073015.slp\n",
      "slippi://play?path=/replays/114117/Day 3-Game_20210718T073015.slp\n",
      "None\n",
      "https://storage.googleapis.com/slippi.appspot.com/replays/114117/Day 3-Game_20210718T072717.slp\n",
      "slippi://play?path=/replays/114117/Day 3-Game_20210718T072717.slp\n",
      "None\n",
      "https://storage.googleapis.com/slippi.appspot.com/replays/114117/Day 3-Game_20210718T072457.slp\n",
      "slippi://play?path=/replays/114117/Day 3-Game_20210718T072457.slp\n",
      "None\n",
      "https://storage.googleapis.com/slippi.appspot.com/replays/114117/Day 3-Game_20210718T072157.slp\n",
      "slippi://play?path=/replays/114117/Day 3-Game_20210718T072157.slp\n",
      "None\n",
      "https://storage.googleapis.com/slippi.appspot.com/replays/114117/Day 3-Game_20210718T071446.slp\n",
      "slippi://play?path=/replays/114117/Day 3-Game_20210718T071446.slp\n",
      "None\n",
      "https://storage.googleapis.com/slippi.appspot.com/replays/114117/Day 3-Game_20210718T070331.slp\n",
      "slippi://play?path=/replays/114117/Day 3-Game_20210718T070331.slp\n",
      "None\n",
      "https://storage.googleapis.com/slippi.appspot.com/replays/114117/Day 3-Game_20210718T065953.slp\n",
      "slippi://play?path=/replays/114117/Day 3-Game_20210718T065953.slp\n",
      "None\n",
      "https://storage.googleapis.com/slippi.appspot.com/replays/114117/Day 3-Game_20210718T065613.slp\n"
     ]
    }
   ],
   "source": [
    "driver = webdriver.Firefox()\n",
    "scrape_tour(_URL,'0x7', driver)"
   ]
  }
 ],
 "metadata": {
  "kernelspec": {
   "display_name": "Python 3 (ipykernel)",
   "language": "python",
   "name": "python3"
  },
  "language_info": {
   "codemirror_mode": {
    "name": "ipython",
    "version": 3
   },
   "file_extension": ".py",
   "mimetype": "text/x-python",
   "name": "python",
   "nbconvert_exporter": "python",
   "pygments_lexer": "ipython3",
   "version": "3.9.7"
  }
 },
 "nbformat": 4,
 "nbformat_minor": 5
}
