{
 "cells": [
  {
   "cell_type": "code",
   "execution_count": 1,
   "id": "39ce7cbc",
   "metadata": {},
   "outputs": [],
   "source": [
    "from slippi import Game\n",
    "from slippi.parse import parse\n",
    "from slippi.parse import ParseEvent\n",
    "import pandas as pd\n",
    "from os import listdir\n",
    "from os.path import isfile, join\n",
    "import tqdm"
   ]
  },
  {
   "cell_type": "code",
   "execution_count": 2,
   "id": "719e60f5",
   "metadata": {},
   "outputs": [],
   "source": [
    "def parse_frame_at_port(game, frame, port):\n",
    "    return [port, frame+1, game.frames[frame].ports[port].leader.pre, game.frames[frame].ports[port].leader.post]"
   ]
  },
  {
   "cell_type": "code",
   "execution_count": 3,
   "id": "57f2ae36",
   "metadata": {},
   "outputs": [],
   "source": [
    "def read_game(file_name):\n",
    "    try:\n",
    "        return Game(f'../Data/{file_name}')\n",
    "    except:\n",
    "        print(f'Failed to parse {file_name}')"
   ]
  },
  {
   "cell_type": "code",
   "execution_count": 4,
   "id": "0fd32c52",
   "metadata": {},
   "outputs": [],
   "source": [
    "def add_replay(file_name, d, k):\n",
    "    game = read_game(file_name)\n",
    "    if game is None:\n",
    "            print(f'{file_name} is None')\n",
    "    else: \n",
    "        for i in range(len(game.start.players)):\n",
    "            pl = game.start.players[i]\n",
    "            if not(pl is None):\n",
    "                char = pl.character.name\n",
    "                head = [file_name, char]\n",
    "                for f in range(len(game.frames)):\n",
    "                    d[k] = head + parse_frame_at_port(game, f, i)\n",
    "                    k += 1\n",
    "    return d, k"
   ]
  },
  {
   "cell_type": "code",
   "execution_count": 5,
   "id": "f7d01345",
   "metadata": {},
   "outputs": [],
   "source": [
    "def replays_to_df(replay_names):\n",
    "    data = dict()\n",
    "    k = 0\n",
    "    for replay in replay_names:\n",
    "        data, k = add_replay(replay, data, k)\n",
    "    df = pd.DataFrame.from_dict(data, columns=['Game_ID','CHAR', 'Port','Frame', 'Pre_frame', 'Post_frame'], orient='index')\n",
    "    return df"
   ]
  },
  {
   "cell_type": "code",
   "execution_count": 76,
   "id": "84eb3ab9",
   "metadata": {},
   "outputs": [],
   "source": [
    "def get_states(df):\n",
    "    post = df['Post_frame']\n",
    "    df['S_airborne'] = post.apply(lambda x : x.airborne).values\n",
    "    df['S_damage'] = post.apply(lambda x : x.damage).values\n",
    "    df['S_direction'] = post.apply(lambda x : x.direction).values\n",
    "    df['S_hit_stun'] = post.apply(lambda x : x.hit_stun).values\n",
    "    df['S_position_x'] = post.apply(lambda x : x.position.x).values\n",
    "    df['S_position_y'] = post.apply(lambda x : x.position.y).values\n",
    "    df['S_shield'] = post.apply(lambda x : x.shield).values\n",
    "    df['S_state'] = post.apply(lambda x : x.state).values\n",
    "    df['S_state_age'] = post.apply(lambda x : x.state_age).values\n",
    "    df['S_stocks'] = post.apply(lambda x : x.stocks).values\n",
    "    \n",
    "    return df"
   ]
  },
  {
   "cell_type": "code",
   "execution_count": 81,
   "id": "d15b24b2",
   "metadata": {},
   "outputs": [],
   "source": [
    "def get_buttons(df):\n",
    "    pre = df['Pre_frame']\n",
    "    df['B_damage'] = pre.apply(lambda x : x.damage).values\n",
    "    df['B_direction'] = pre.apply(lambda x : x.damage).values\n",
    "    df['B_joystick_x'] = pre.apply(lambda x : x.joystick.x).values\n",
    "    df['B_joystick_y'] = pre.apply(lambda x : x.joystick.y).values\n",
    "    df['B_position_x'] = pre.apply(lambda x : x.position.x).values\n",
    "    df['B_position_y'] = pre.apply(lambda x : x.position.y).values\n",
    "    df['B_cstick_x'] = pre.apply(lambda x : x.cstick.x).values\n",
    "    df['B_cstick_y'] = pre.apply(lambda x : x.cstick.y).values\n",
    "    df['B_state'] = pre.apply(lambda x : x.state).values\n",
    "    df['B_raw_analog'] = pre.apply(lambda x : x.raw_analog_x).values\n",
    "    df['B_buttons_physical'] = pre.apply(lambda x : x.buttons.physical.value).values\n",
    "    df['B_buttons_physical'] = pre.apply(lambda x : x.buttons.logical.value).values\n",
    "    df['B_triggers_physical_l'] = pre.apply(lambda x : x.triggers.physical.l).values\n",
    "    df['B_triggers_physical_r'] = pre.apply(lambda x : x.triggers.physical.r).values\n",
    "    df['B_triggers_logical'] = pre.apply(lambda x : x.triggers.logical).values\n",
    "    \n",
    "    \n",
    "    return df"
   ]
  },
  {
   "cell_type": "code",
   "execution_count": null,
   "id": "7016095d",
   "metadata": {},
   "outputs": [
    {
     "name": "stdout",
     "output_type": "stream",
     "text": [
      "Failed to parse 20210717T020209.slp\n",
      "20210717T020209.slp is None\n"
     ]
    }
   ],
   "source": [
    "files = listdir('../Data/')\n",
    "df = replays_to_df(files[:10])\n",
    "df = get_states(df)\n",
    "df = get_buttons(df)"
   ]
  }
 ],
 "metadata": {
  "kernelspec": {
   "display_name": "Python 3 (ipykernel)",
   "language": "python",
   "name": "python3"
  },
  "language_info": {
   "codemirror_mode": {
    "name": "ipython",
    "version": 3
   },
   "file_extension": ".py",
   "mimetype": "text/x-python",
   "name": "python",
   "nbconvert_exporter": "python",
   "pygments_lexer": "ipython3",
   "version": "3.9.7"
  }
 },
 "nbformat": 4,
 "nbformat_minor": 5
}
